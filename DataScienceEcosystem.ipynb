{
 "cells": [
  {
   "cell_type": "markdown",
   "id": "cc67b9dc-eb6c-416e-9239-8f31649f6096",
   "metadata": {},
   "source": [
    "# Data Science Tools and Ecosystem"
   ]
  },
  {
   "cell_type": "markdown",
   "id": "de8c3d90-42b0-4c00-abc9-f27bcc5c1b10",
   "metadata": {},
   "source": [
    "In this notebook, Data Science Tools and Ecosystem are summarized."
   ]
  },
  {
   "cell_type": "markdown",
   "id": "64e0609d-b54a-41c5-9d80-c0d824c545a3",
   "metadata": {},
   "source": [
    "**Objectives:**\n",
    "\n",
    "- List popular languages for Data Science.\n",
    "- Understand basic arithmetic expressions and how to use them in code.\n",
    "- Learn how to convert units (e.g., minutes to hours).\n",
    "- Explore basic data science tools and environments.\n",
    "- Apply basic operations like addition and multiplication in Python.\n",
    "\n",
    "## Author\n",
    "Jayminkumar Patel"
   ]
  },
  {
   "cell_type": "markdown",
   "id": "17eefc89-5462-4b5d-822c-0b79f2134ce6",
   "metadata": {},
   "source": [
    "Some of the popular languages that Data Scientists use are:\n",
    "1. Python\n",
    "2. R\n",
    "3. Julia"
   ]
  },
  {
   "cell_type": "markdown",
   "id": "1b14a592-f76e-41de-923e-2a15e2040dd5",
   "metadata": {},
   "source": [
    "Some of the commonly used libraries used by Data Scientists include:\n",
    "1. Pandas\n",
    "2. Matplotlib\n",
    "3. Scikit-learn\n",
    "4. Tensorflow"
   ]
  },
  {
   "cell_type": "markdown",
   "id": "b057675d-1068-4071-a129-b0ff1024ed67",
   "metadata": {},
   "source": [
    "Some of the Data Science tools:\n",
    "|Data Science Tools|\n",
    "|------------------|\n",
    "|Jupyter Notebook|\n",
    "|RStudio         |\n",
    "|Apache Zeppelin |"
   ]
  },
  {
   "cell_type": "markdown",
   "id": "8b408b4d-ef00-46d1-8b6a-bb6f4220d601",
   "metadata": {},
   "source": [
    "### Below are a few examples of evaluating arithmetic expressions in Python\n",
    "1. **Addition**: `5 + 3 = 8`\n",
    "2. **Subtraction**: `10 - 4 = 6`\n",
    "3. **Multiplication**: `7 * 6 = 42`\n",
    "4. **Division**: `20 / 4 = 5`\n",
    "5. **Exponentiation**: `2^3 = 8`\n",
    "6. **Modulus**: `10 %% 3 = 1` (Remainder of division)"
   ]
  },
  {
   "cell_type": "code",
   "execution_count": 1,
   "id": "45658c76-2deb-46fe-883c-5345d69b3fc8",
   "metadata": {},
   "outputs": [
    {
     "data": {
      "text/plain": [
       "17"
      ]
     },
     "execution_count": 1,
     "metadata": {},
     "output_type": "execute_result"
    }
   ],
   "source": [
    "#a code cell to multiply and add numbers\n",
    "(3*4)+5"
   ]
  },
  {
   "cell_type": "code",
   "execution_count": 2,
   "id": "36c9a7a6-f187-4fce-aeaf-567558013a95",
   "metadata": {},
   "outputs": [
    {
     "name": "stdout",
     "output_type": "stream",
     "text": [
      "200 minutes is equal to 3.3333333333333335 hours.\n"
     ]
    }
   ],
   "source": [
    "#This will convert 200 minuts to hours by dividing by 60\n",
    "minutes = 200\n",
    "hours = minutes/60\n",
    "\n",
    "# Print results\n",
    "print(f\"{minutes} minutes is equal to {hours} hours.\")"
   ]
  },
  {
   "cell_type": "markdown",
   "id": "2653c2e0-9bdb-4230-9728-413ebe7aed7e",
   "metadata": {},
   "source": [
    "Github repo for Assigenments: \n",
    "https://github.com/jaymin-gitlearning/Assignment-IBMCourse"
   ]
  },
  {
   "cell_type": "code",
   "execution_count": null,
   "id": "ff2229ad-4707-40e7-bb3e-cc214a9017c3",
   "metadata": {},
   "outputs": [],
   "source": []
  }
 ],
 "metadata": {
  "kernelspec": {
   "display_name": "Python 3 (ipykernel)",
   "language": "python",
   "name": "python3"
  },
  "language_info": {
   "codemirror_mode": {
    "name": "ipython",
    "version": 3
   },
   "file_extension": ".py",
   "mimetype": "text/x-python",
   "name": "python",
   "nbconvert_exporter": "python",
   "pygments_lexer": "ipython3",
   "version": "3.13.1"
  }
 },
 "nbformat": 4,
 "nbformat_minor": 5
}
